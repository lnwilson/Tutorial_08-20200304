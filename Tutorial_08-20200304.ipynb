{
 "cells": [
  {
   "cell_type": "markdown",
   "metadata": {},
   "source": [
    "# Tutorial 8: Percentiles and Sampling Distribution for Proportions  #\n"
   ]
  },
  {
   "cell_type": "markdown",
   "metadata": {},
   "source": [
    "## Objectives: ##\n",
    "To become familiar with the R commands used to calculate a percentile for a normal random variable.<br>\n",
    "To practice using R commands to calculate statistics and probabilities for a sampling distribution of a proportion."
   ]
  },
  {
   "cell_type": "markdown",
   "metadata": {},
   "source": [
    "## Instructions: ##\n",
    "* Do NOT round any of the values.\n",
    "* For percentile questions:\n",
    "  * After calculating a percentile, in the markdown block, draw the normal distribution with the appropriate section shaded.\n",
    "* For Probability Questions:\n",
    "  * Before calculating a probability, in the markdown block, draw the normal distribution with the appropriate section shaded.\n",
    "  * After calculating a probability, in the markdown block, indicate what you have found using approriate probability format AND a sentence. <br> Examples of proper format:\n",
    "    * P(X > 4) = 0.52687495122\n",
    "    * P(Y < 3) = 0.25447898\n",
    "    * P(20% < p-hat < 80%) = 0.999587411563\n",
    "  * After calculating a value that is not a probability, indicate what you have found with a sentence."
   ]
  },
  {
   "cell_type": "markdown",
   "metadata": {},
   "source": [
    "## Formulae: ##\n",
    "* If $X$ is a normal random variable then the $P$th percentile is the value $v$ such that $P(X < v) = P/100$.\n",
    "* The sampling distribution of $\\hat{p}$ is the distribution of all the possible sample proportions.\n",
    "* For the random variable $\\hat{p}$:\n",
    "  * $\\mu_\\hat{p} = p$ where $p$ is the population proportion.\n",
    "  * $\\sigma_\\hat{p} = \\sqrt{\\frac{pq}{n}}$ where $q = 1 - p$.\n",
    "  * If $np \\ge 10$ and $nq \\ge 10$ then we say $\\hat{p}$ is approximately normal with a mean of $p$ and a standard deviation of $\\sqrt{\\frac{pq}{n}}$, or in short form $\\hat{p} \\sim N(p,\\sqrt{\\frac{pq}{n}})$.\n",
    "* Recall:\n",
    "  * $P(Y > value) = 1 - P(Y < value)$\n",
    "  * $P(val1 < Y < val2) = P(Y < val2) - P(Y < val1)$"
   ]
  },
  {
   "cell_type": "markdown",
   "metadata": {},
   "source": [
    "## Tools: ##"
   ]
  },
  {
   "cell_type": "code",
   "execution_count": 1,
   "metadata": {},
   "outputs": [],
   "source": [
    "normalplot<-function(m,sd,region=0){\n",
    "  x<-seq(m-(3.5)*sd,m+(3.5)*sd,length=1000)\n",
    "  y<-dnorm(x,m,sd)\n",
    "  plot(x,y,type=\"l\",xlab=\"\",ylab=\"\", bty=\"n\", yaxt=\"n\")\n",
    "  h <- dnorm(m,m,sd)\n",
    "  z<-x[x>region[1]]\n",
    "  z<-z[z<region[2]]\n",
    "  polygon(c(region[1],z,region[2]),\n",
    "          c(0,dnorm(z,m,sd),0),col=\"gray\")\n",
    "  abline(v=m)\n",
    "  abline(h=0)}"
   ]
  },
  {
   "cell_type": "markdown",
   "metadata": {},
   "source": [
    "## Data Information: ##\n",
    "* Suppose a large population of children has a mean IQ score of 99.5 points and a standard deviation of 21.7 points. Let $X$ represent the IQ of a child randomly selected from this population.\n",
    "* According to \"RESEARCH NOTE Caring Canadians, Involved Canadians: 2010\" bulletin from Statistics Canada http://sectorsource.ca/sites/default/files/resources/ic-research/research_note_csgvp_tables_en_2012.pdf, in 2010, 55% of Albertans 15 and over volunteered. Let $\\hat{p}$ represent the proportion of a sample 25 Albertans that were 15 years or older in 2010 and that volunteered. "
   ]
  },
  {
   "cell_type": "markdown",
   "metadata": {},
   "source": [
    "## Question 1. Percentile ##"
   ]
  },
  {
   "cell_type": "markdown",
   "metadata": {},
   "source": [
    "The R command `qnorm(` &lt;prob&gt; `,` &lt;mean&gt; `,` &lt;sd&gt; `)` determines $P( X \\lt$ value $) =$ &lt;prob&gt;<br>\n",
    "Use `qnorm` to determine the required value then write a sentence indicating the meaning of the value.\n",
    "Suppose a large population of children has a mean IQ score of 99.5 points and a standard deviation of 21.7 points.<br>\n",
    "Let $X$ represent the IQ of a child randomly selected from this population.\n",
    "* a. Fill in the blank. Sixty percent of people have an IQ under ________________.\n",
    "* b. What is the lower quartile for this random variable?\n",
    "* c. If you want to start a high IQ club that only admits the 15% of students with the highest IQ what should you set your cut off for admission at?"
   ]
  },
  {
   "cell_type": "markdown",
   "metadata": {},
   "source": [
    "### Answer 1.a. ##"
   ]
  },
  {
   "cell_type": "code",
   "execution_count": 2,
   "metadata": {},
   "outputs": [],
   "source": [
    "This is a code cell."
   ]
  },
  {
   "cell_type": "code",
   "execution_count": null,
   "metadata": {},
   "outputs": [],
   "source": [
    "Draw the distribution with the area of interest shaded."
   ]
  },
  {
   "cell_type": "markdown",
   "metadata": {},
   "source": [
    "This is a markdown cell, answer with a sentence."
   ]
  },
  {
   "cell_type": "markdown",
   "metadata": {},
   "source": [
    "### Answer 1.b. ##"
   ]
  },
  {
   "cell_type": "code",
   "execution_count": null,
   "metadata": {},
   "outputs": [],
   "source": [
    "This is a code cell."
   ]
  },
  {
   "cell_type": "code",
   "execution_count": null,
   "metadata": {},
   "outputs": [],
   "source": [
    "Draw the distribution with the area of interest shaded."
   ]
  },
  {
   "cell_type": "markdown",
   "metadata": {},
   "source": [
    "This is a markdown cell, answer with a sentence."
   ]
  },
  {
   "cell_type": "markdown",
   "metadata": {},
   "source": [
    "### Answer 1.c. ###"
   ]
  },
  {
   "cell_type": "code",
   "execution_count": null,
   "metadata": {},
   "outputs": [],
   "source": [
    "This is a code cell."
   ]
  },
  {
   "cell_type": "code",
   "execution_count": null,
   "metadata": {},
   "outputs": [],
   "source": [
    "Draw the distribution with the area of interest shaded."
   ]
  },
  {
   "cell_type": "markdown",
   "metadata": {},
   "source": [
    "This is a markdown cell, answer with a sentence."
   ]
  },
  {
   "cell_type": "markdown",
   "metadata": {},
   "source": [
    "## Question 2. Sampling Distribution of the Proportion ##"
   ]
  },
  {
   "cell_type": "markdown",
   "metadata": {},
   "source": [
    "Use normalplot and pnorm to answer the determine the answers to following questions. Follow the instructions given above to answer these questions.<br>It is believed that in 2010, 55% of Albertans 15 and over volunteered.<br>\n",
    "Let $\\hat{p}$ represent the proportion of a sample 25 Albertans that were 15 years or older in 2010 and that volunteered.\n",
    "* a. Determine $\\mu_\\hat{p}$.\n",
    "* b. Determine $\\sigma_\\hat{p}$.\n",
    "* c. Explain how we know that $\\hat{p}$ is approximately normally distributed.\n",
    "* d. Determine the probability that the proportion of the sample is less than 54%. Draw the normal distribution showing the appropriate section shaded before calculating the probability.\n",
    "* e. Determine the probability that the proportion of the sample is more than 55.6%. Draw the normal distribution showing the appropriate section shaded before calculating the probability.\n",
    "* f. Determine the probability that the proportion of the sample between 53.5% and 56.7%. Draw the normal distribution showing the appropriate section shaded before calculating the probability."
   ]
  },
  {
   "cell_type": "markdown",
   "metadata": {},
   "source": [
    "### Answer 2.a. ###"
   ]
  },
  {
   "cell_type": "code",
   "execution_count": null,
   "metadata": {},
   "outputs": [],
   "source": [
    "This is a code cell."
   ]
  },
  {
   "cell_type": "markdown",
   "metadata": {},
   "source": [
    "Write the answer."
   ]
  },
  {
   "cell_type": "markdown",
   "metadata": {},
   "source": [
    "### Answer 2.b. ###"
   ]
  },
  {
   "cell_type": "code",
   "execution_count": null,
   "metadata": {},
   "outputs": [],
   "source": [
    "This is a code cell."
   ]
  },
  {
   "cell_type": "markdown",
   "metadata": {},
   "source": [
    "Write the answer."
   ]
  },
  {
   "cell_type": "markdown",
   "metadata": {},
   "source": [
    "### Answer 2.c. ###"
   ]
  },
  {
   "cell_type": "markdown",
   "metadata": {},
   "source": [
    "Enter your explanation here."
   ]
  },
  {
   "cell_type": "markdown",
   "metadata": {},
   "source": [
    "### Answer 2.d. ###"
   ]
  },
  {
   "cell_type": "code",
   "execution_count": null,
   "metadata": {},
   "outputs": [],
   "source": [
    "Draw the distribution with the area of interest shaded."
   ]
  },
  {
   "cell_type": "code",
   "execution_count": null,
   "metadata": {},
   "outputs": [],
   "source": [
    "Calculate the probability."
   ]
  },
  {
   "cell_type": "markdown",
   "metadata": {},
   "source": [
    "Write the probability in the proper format and write a sentence describing what you have found."
   ]
  },
  {
   "cell_type": "markdown",
   "metadata": {},
   "source": [
    "### Answer 2.e. ###"
   ]
  },
  {
   "cell_type": "code",
   "execution_count": null,
   "metadata": {},
   "outputs": [],
   "source": [
    "Draw the distribution with the area of interest shaded."
   ]
  },
  {
   "cell_type": "code",
   "execution_count": null,
   "metadata": {},
   "outputs": [],
   "source": [
    "Calculate the probability."
   ]
  },
  {
   "cell_type": "markdown",
   "metadata": {},
   "source": [
    "Write the probability in the proper format and write a sentence describing what you have found."
   ]
  },
  {
   "cell_type": "markdown",
   "metadata": {},
   "source": [
    "### Answer 2.f. ###"
   ]
  },
  {
   "cell_type": "code",
   "execution_count": null,
   "metadata": {},
   "outputs": [],
   "source": [
    "Draw the distribution with the area of interest shaded."
   ]
  },
  {
   "cell_type": "code",
   "execution_count": null,
   "metadata": {},
   "outputs": [],
   "source": [
    "Calculate the probability."
   ]
  },
  {
   "cell_type": "markdown",
   "metadata": {},
   "source": [
    "Write the probability in the proper format and write a sentence describing what you have found."
   ]
  },
  {
   "cell_type": "markdown",
   "metadata": {},
   "source": [
    "---\n",
    "---\n",
    "#### This tutorial is released under a Creative Commons Attribution-ShareAlike 3.0 Unported.\n",
    "\n",
    "This tutorial has been adapted from a lab that  was adapted for OpenIntro by Andrew Bray and Mine Çetinkaya-Rundel from a lab written by Mark Hansen of UCLA Statistics.\n",
    "\n",
    "---\n",
    "---"
   ]
  }
 ],
 "metadata": {
  "kernelspec": {
   "display_name": "R",
   "language": "R",
   "name": "ir"
  },
  "language_info": {
   "codemirror_mode": "r",
   "file_extension": ".r",
   "mimetype": "text/x-r-source",
   "name": "R",
   "pygments_lexer": "r",
   "version": "3.6.1"
  }
 },
 "nbformat": 4,
 "nbformat_minor": 2
}
